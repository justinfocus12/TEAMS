





import numpy as np
import matplotlib.pyplot as plt
from importlib import reload
from pprint import pprint
import sys
import os


sys.path.append("../..")
import lorenz96; reload(lorenz96)
import forcing; reload(forcing)
import ensemble; reload(ensemble)


cfg_ode = lorenz96.Lorenz96ODE.default_config()
pprint(cfg_ode)


ode = lorenz96.Lorenz96ODE(cfg_ode)


tp_init = 0.0
t_init = int(round(tp_init/ode.dt_save))
x_init = ode.generate_default_init_cond(t_init)
x_dt_init = ode.tendency(t_init, x_init)


fig,axes = plt.subplots(nrows=2,ncols=1,figsize=(12,8))
ax = axes[0]
ax.plot(np.arange(ode.K), x_init)
ax.set_ylabel(r"$x_k(t=0)$")
ax.set_xlabel(r"$k$")
ax = axes[1]
ax.plot(np.arange(ode.K), x_dt_init)
ax.set_ylabel(r"$\frac{dx_k}{dt}(t=0)$")
ax.set_xlabel(r"$k$")






tp_fin = 20.0
t_fin = int(round(tp_fin/ode.dt_save))
t_save,x_save = ode.run_trajectory_unperturbed(x_init, t_init, t_fin, "rk4")
tp_save = t_save * ode.dt_save
Nt_save = len(t_save)


fig,ax = plt.subplots(figsize=(12,4))
handles = []
tps_plot = np.array([0.0, 6.0, 18.75, 19.0])
tidx_plot = ((tps_plot-tp_init)/ode.dt_save).astype(int)
for i_t in tidx_plot:
    h, = ax.plot(np.arange(ode.K), x_save[i_t], label=r"$t = %.2f$"%(tp_save[i_t]))
    handles.append(h)
ax.legend(handles=handles,bbox_to_anchor=(1,1),loc="upper left")
ax.set_xlabel(r"$k$")
ax.set_ylabel(r"$x_k(t)$")





fig,ax = plt.subplots(figsize=(12,6))
img = ode.plot_hovmoller(t_save, x_save, fig, ax)
fig.colorbar(img, ax=ax, orientation="horizontal")
ax.set_xlabel(r"$t$")
ax.set_ylabel(r"$k$")
ax.set_title("$x_k(t)$")





cfg_sde = lorenz96.Lorenz96SDE.default_config()
cfg_sde['frc']['white']['wavenumber_magnitudes'][0] = 1.0
pprint(cfg_sde)


sde = lorenz96.Lorenz96SDE(cfg_sde)


init_seed = 49381
rng = np.random.default_rng(init_seed)
t_save,x_save = sde.run_trajectory_unperturbed(x_init, t_init, t_fin, "euler_maruyama", rng)


fig,ax = plt.subplots(figsize=(12,6))
img = ode.plot_hovmoller(t_save, x_save, fig, ax)
fig.colorbar(img, ax=ax, orientation="horizontal")
ax.set_xlabel(r"$t$")
ax.set_ylabel(r"$k$")
ax.set_title("$x_k(t)$ stochastically forced")








print(f'{ode.impulse_dim = }')
print(f'{ode.impulse_matrix = }')


rng_impulse = np.random.default_rng(seed=9823)
rng_reseed = 7856


mid_pert = 0.01 * rng_impulse.normal(size=(ode.impulse_dim),)
reseed_forcing_null = forcing.OccasionalReseedForcing(t_init, t_fin, [], [])
reseed_forcing = forcing.OccasionalReseedForcing(t_init, t_fin, [(t_init+t_fin)//2], [rng_reseed])
vector_forcing_null = forcing.OccasionalVectorForcing(t_init, t_fin, [], [])
vector_forcing = forcing.OccasionalVectorForcing(t_init, t_fin, [(t_init+t_fin)//2], [mid_pert])





icandf_reseed = dict({
    "init_cond": x_init,
    "init_rngstate": np.random.default_rng(init_seed).bit_generator.state,
    "frc": forcing.SuperposedForcing([reseed_forcing,vector_forcing_null]),
})


root_dir = os.getcwd()
obs_fun = lambda t,x: x[:,0]
saveinfo = dict({"filename": "x_perturbed.npz"})
metadata,observables = sde.run_trajectory(icandf, obs_fun, saveinfo, root_dir)


icandf_impulse = dict({
    "init_cond": x_init,
    "init_rngstate": np.random.default_rng(init_seed).bit_generator.state,
    "frc": forcing.SuperposedForcing([reseed_forcing_null,vector_forcing]),
})


fig,ax = plt.subplots(figsize=(12,4))
h0, = ax.plot(t_save, x_save[:,0], color="black", linestyle="--", linewidth=3, label="Unperturbed")
h1, = ax.plot(t_save, observables, color="red", linestyle="-", linewidth=1, label="Perturbed")
ax.legend(handles=[h0,h1], bbox_to_anchor=(1,1), loc="upper left")





ens = ensemble.Ensemble(sde, root_dir=root_dir)
saveinfo_2 = dict({"filename": "x_perturbed_in_ensemble.npz"})
ens.branch_or_plant(icandf, obs_fun, saveinfo, parent=None)






